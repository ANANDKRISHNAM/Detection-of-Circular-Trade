{
 "cells": [
  {
   "cell_type": "markdown",
   "metadata": {},
   "source": [
    "# "
   ]
  },
  {
   "cell_type": "markdown",
   "metadata": {
    "id": "gSBeaBttTGkd"
   },
   "source": [
    "# Authors\n",
    "\n",
    "M Anand Krishna - cs22mtech14003\n",
    "\n",
    "K S Akash - cs22mtech11012\n",
    "\n",
    "K Manish - cs22mtech11008\n",
    "\n",
    "A SivaSai - cs22mtech11013"
   ]
  },
  {
   "cell_type": "markdown",
   "metadata": {
    "id": "DD_SRgxTbBuh"
   },
   "source": [
    "**From the given dataset , we are creating a multi directed graph G ,where the edge values between 2 nodes in G graph are the transaction values between the nodes in dataset**"
   ]
  },
  {
   "cell_type": "code",
   "execution_count": 4,
   "metadata": {
    "id": "IuD_NgHObFcH"
   },
   "outputs": [],
   "source": [
    "import networkx as nx\n",
    "import csv\n",
    "import numpy as np\n",
    "\n",
    "# create an empty directed graph\n",
    "G = nx.DiGraph()\n",
    "\n",
    "# read the data from the CSV file\n",
    "with open('./Iron_dealers_data.csv', 'r') as f:\n",
    "    reader = csv.reader(f)\n",
    "    next(reader)  # skip the header row\n",
    "    for row in reader:\n",
    "        seller = int(row[0])\n",
    "        buyer = int(row[1])\n",
    "        value = float(row[2])\n",
    "        \n",
    "        # add seller and buyer as vertices if not already present\n",
    "        if not G.has_node(seller):\n",
    "            G.add_node(seller)\n",
    "        if not G.has_node(buyer):\n",
    "            G.add_node(buyer)\n",
    "        \n",
    "        # add the transaction as an edge with the transaction amount as the weight\n",
    "        if G.has_edge(seller, buyer):\n",
    "            G[seller][buyer]['weight'] += value\n",
    "        else:\n",
    "            G.add_edge(seller, buyer, weight=value)\n"
   ]
  },
  {
   "cell_type": "markdown",
   "metadata": {
    "id": "z2BlwrRZQ4Bs"
   },
   "source": [
    " # 2_cycles\n",
    "\n",
    " **Here we are finding all 2 cycles in the directed graph G and adding their  nodes into cycle_2nodes**"
   ]
  },
  {
   "cell_type": "code",
   "execution_count": 5,
   "metadata": {
    "id": "1nZFUDRwAjG5"
   },
   "outputs": [],
   "source": [
    "cycle_2nodes=[]\n",
    "seen_cycles=set()\n",
    "for node in G.nodes:\n",
    "  neighboursofnode1=set(G.successors(node))\n",
    "  for neighbour in neighboursofnode1:\n",
    "    if G.has_edge(node,neighbour) and G.has_edge(neighbour,node) and node!=neighbour:\n",
    "      cycle=[node,neighbour]\n",
    "      cycle_dup=[neighbour,node]\n",
    "      if cycle_dup not in cycle_2nodes:\n",
    "        cycle_2nodes.append(cycle)  \n",
    "\n"
   ]
  },
  {
   "cell_type": "markdown",
   "metadata": {
    "id": "KokT9lD2Tje7"
   },
   "source": [
    "For each 2 cycle in cycle_2nodes ,                                            \n",
    "\n",
    "\n",
    " *  **we are comparing the weights in cycle to detect fraud .**\n",
    " *  **if weights in 2 cycle are similar (doing fraud), we  compute a score by considering change in weights and  edge weight  . If edge weights are not similar then make the score as -1**\n",
    "\n"
   ]
  },
  {
   "cell_type": "code",
   "execution_count": 6,
   "metadata": {
    "id": "NcE_KTcBRAt6"
   },
   "outputs": [],
   "source": [
    "score_2_cycles=[]\n",
    "import math\n",
    "import statistics\n",
    "for i in range(0,len(cycle_2nodes)):\n",
    "  #each cycle\n",
    "  score=-1\n",
    "  node1=cycle_2nodes[i][0]\n",
    "  node2=cycle_2nodes[i][1]\n",
    "  edge_data = G.get_edge_data(node1, node2)\n",
    "  weight12 = edge_data['weight']\n",
    "  edge_data = G.get_edge_data(node2, node1)\n",
    "  weight21 = edge_data['weight']\n",
    "  a=weight12\n",
    "  b=weight21\n",
    "  max_value=b\n",
    "  min_value=a\n",
    "  if(a>b):\n",
    "    max_value=a\n",
    "  else:\n",
    "    max_value=b\n",
    "  if(a<b):\n",
    "    min_value=a\n",
    "  else:\n",
    "    min_value=b\n",
    "  w=[]\n",
    "  w.append(a)\n",
    "  w.append(b)\n",
    "  avg=(a+b)/2\n",
    "  x=[]\n",
    "  if(max_value!=min_value):\n",
    "    for i in range(0,2):\n",
    "      #norm=(w[i]-min_value)/(max_value)\n",
    "      norm = (w[i]) / sum([(j) for j in w])\n",
    "      x.append(norm)\n",
    "  #print(w)\n",
    "    #print(x)\n",
    "  #Compute the standard deviation of the normalized list\n",
    "    w_std = statistics.stdev(x)\n",
    "  else:\n",
    "    w_std=0.00001  \n",
    "  th=1-w_std\n",
    "  #print(th)\n",
    "  if(th>0.6):\n",
    "    score=th*avg\n",
    "\n",
    "  score_2_cycles.append(score)\n",
    "\n",
    "\n",
    "\n",
    "\n",
    "    \n",
    "\n",
    "  "
   ]
  },
  {
   "cell_type": "code",
   "execution_count": 7,
   "metadata": {
    "colab": {
     "base_uri": "https://localhost:8080/"
    },
    "id": "sfKYTcqKDAHf",
    "outputId": "174d8098-5269-41c7-8a3f-f524227e6607"
   },
   "outputs": [
    {
     "data": {
      "text/plain": [
       "318"
      ]
     },
     "execution_count": 7,
     "metadata": {},
     "output_type": "execute_result"
    }
   ],
   "source": [
    "len(score_2_cycles)"
   ]
  },
  {
   "cell_type": "markdown",
   "metadata": {
    "id": "RYnELxMdqY45"
   },
   "source": [
    "#3 cycles3\n",
    "\n",
    "**Here we are finding all 3 cycles in the directed graph G and adding their  nodes into cycle_3list**"
   ]
  },
  {
   "cell_type": "code",
   "execution_count": 8,
   "metadata": {
    "id": "nfPhOEi5OlFq"
   },
   "outputs": [],
   "source": [
    "node_sets1 = []\n",
    "seen_cycles = set()\n",
    "for node in G.nodes:\n",
    "    neighbors = set(G.successors(node))\n",
    "    for neighbor1 in neighbors:\n",
    "        for neighbor2 in neighbors:\n",
    "            if neighbor1 != neighbor2 and G.has_edge(neighbor1, neighbor2):\n",
    "                if G.has_edge(neighbor2, node) and G.has_edge(node, neighbor1):\n",
    "                    cycle = [node, neighbor1, neighbor2]\n",
    "                    if len(set(cycle)) == 3 and G.has_edge(neighbor2, neighbor1):\n",
    "                        weights = [G.get_edge_data(neighbor1, neighbor2)['weight'],\n",
    "                                   G.get_edge_data(neighbor2, node)['weight'],\n",
    "                                   G.get_edge_data(node, neighbor1)['weight']]\n",
    "                        cycle_frozen = frozenset(cycle)\n",
    "                        if cycle_frozen not in seen_cycles:\n",
    "                            node_sets1.append(cycle)\n",
    "                            seen_cycles.add(cycle_frozen)\n"
   ]
  },
  {
   "cell_type": "code",
   "execution_count": 9,
   "metadata": {
    "colab": {
     "base_uri": "https://localhost:8080/"
    },
    "id": "9e-uQxB0WMwc",
    "outputId": "73182c11-34c4-4f5e-b909-382aa4afe004"
   },
   "outputs": [
    {
     "data": {
      "text/plain": [
       "755"
      ]
     },
     "execution_count": 9,
     "metadata": {},
     "output_type": "execute_result"
    }
   ],
   "source": [
    "cycles_3=node_sets1\n",
    "len(cycles_3)"
   ]
  },
  {
   "cell_type": "markdown",
   "metadata": {
    "id": "L3GCdg2Pavhe"
   },
   "source": [
    "For each 3 cycle in cycle_3 ,                                            \n",
    "\n",
    "\n",
    " *  **we are comparing the weights in cycle to detect fraud .**\n",
    " *  **if weights in 3 cycle are similar (doing fraud), we  compute a score by considering change in weights and  edge weight  . If edge weights are not similar then make the score as -1**\n",
    "\n"
   ]
  },
  {
   "cell_type": "code",
   "execution_count": 10,
   "metadata": {
    "id": "wJOjCCFvb0SQ"
   },
   "outputs": [],
   "source": [
    "score_3_cycles=[]\n",
    "import math\n",
    "import statistics\n",
    "for i in range(0,len(cycles_3)):\n",
    "  #each cycle\n",
    "  w=[]\n",
    "  score=-1\n",
    "  node1=cycles_3[i][0]\n",
    "  node2=cycles_3[i][1]\n",
    "  node3=cycles_3[i][2]\n",
    "  edge_data = G.get_edge_data(node1, node2)\n",
    "  weight12 = edge_data['weight']\n",
    "  edge_data = G.get_edge_data(node2, node3)\n",
    "  weight23 = edge_data['weight']\n",
    "  edge_data = G.get_edge_data(node3, node1)\n",
    "  weight31 = edge_data['weight']\n",
    "  a=weight12\n",
    "  b=weight23\n",
    "  c=weight31\n",
    "  avg=(a+b+c)/3\n",
    "  w.append(a)\n",
    "  w.append(b)\n",
    "  w.append(c)\n",
    "  min_value = w[0] if w[0] < w[1] else w[1]\n",
    "  min_value = min_value if min_value < w[2] else w[2]\n",
    "\n",
    "  # Normalize the list\n",
    "  max_value = w[0] if w[0] > w[1] else w[1]\n",
    "  max_value = max_value if max_value > w[2] else w[2]\n",
    "\n",
    "  x=[]\n",
    "  w[0]=w[0]-max_value\n",
    "  w[1]=w[1]-max_value\n",
    "  w[2]=w[2]-max_value\n",
    "\n",
    "  for i in range(0,3):\n",
    "    #norm=(w[i]-min_value)/(max_value-min_value)\n",
    "    #norm = math.exp(w[i]) / sum([math.exp(j) for j in w])\n",
    "    norm  = w[i]/sum([j for j in w])\n",
    "    x.append(norm)\n",
    "  #print(w)\n",
    "  #print(x)\n",
    "  #Compute the standard deviation of the normalized list\n",
    "  w_std = statistics.stdev(x)\n",
    "  th=1-w_std\n",
    "  #print(th)\n",
    "  if(th>0.6):\n",
    "    score=th*avg\n",
    "\n",
    "  score_3_cycles.append(score)\n",
    "  "
   ]
  },
  {
   "cell_type": "code",
   "execution_count": 11,
   "metadata": {
    "colab": {
     "base_uri": "https://localhost:8080/"
    },
    "id": "qNnQ9FE0SQJw",
    "outputId": "fd0b13ab-cbb9-435f-8363-bfb294819b2c"
   },
   "outputs": [
    {
     "data": {
      "text/plain": [
       "755"
      ]
     },
     "execution_count": 11,
     "metadata": {},
     "output_type": "execute_result"
    }
   ],
   "source": [
    "len(score_3_cycles)"
   ]
  },
  {
   "cell_type": "markdown",
   "metadata": {
    "id": "Bbfi85uSWGPi"
   },
   "source": [
    "# Hash"
   ]
  },
  {
   "cell_type": "code",
   "execution_count": 12,
   "metadata": {
    "id": "7M9RHzlqGdFd"
   },
   "outputs": [],
   "source": [
    "def my_min(x, y):\n",
    "    if x < y:\n",
    "        return x\n",
    "    else:\n",
    "        return y\n",
    "\n",
    "def my_max(x, y):\n",
    "    if x > y:\n",
    "        return x\n",
    "    else:\n",
    "        return y\n"
   ]
  },
  {
   "cell_type": "code",
   "execution_count": 13,
   "metadata": {
    "colab": {
     "base_uri": "https://localhost:8080/"
    },
    "id": "g_84kYSN7VRX",
    "outputId": "649708ad-3fd6-460d-8db7-fd1c108788bc"
   },
   "outputs": [
    {
     "name": "stdout",
     "output_type": "stream",
     "text": [
      "700\n"
     ]
    }
   ],
   "source": [
    "import hashlib\n",
    "\n",
    "def hash_function(node1, node2):\n",
    "    # Sort the nodes to ensure that (2,3) and (3,2) have the same hash value\n",
    "    node_pair = f\"{my_min(node1, node2)}-{my_max(node1, node2)}\"\n",
    "\n",
    "    # Hash the concatenated string using SHA-256\n",
    "    hash_object = hashlib.sha256(node_pair.encode())\n",
    "    hash_value = hash_object.hexdigest()\n",
    "\n",
    "    return hash_value\n",
    "\n",
    "\n",
    "# Example usage\n",
    "nodes = cycles_3\n",
    "scores = score_3_cycles\n",
    "\n",
    "# Create a dictionary to store the node pair scores\n",
    "node_pair_scores = {}\n",
    "\n",
    "# Iterate over the list of nodes\n",
    "for i in range(len(nodes)):\n",
    "    # Iterate over the indices of the elements within each list\n",
    "    for k in range(len(nodes[i])):\n",
    "        # Iterate over the remaining elements in the list\n",
    "        for l in range(k+1, len(nodes[i])):\n",
    "            # Compute the hash value for the pair of nodes\n",
    "            #print(nodes[i][k], nodes[i][l])\n",
    "            hash_value = hash_function(nodes[i][k], nodes[i][l])\n",
    "\n",
    "            # Check if the hash value already exists in the dictionary\n",
    "            if hash_value in node_pair_scores:\n",
    "                # If it does, add the new score to the existing value\n",
    "                node_pair_scores[hash_value] += scores[i]\n",
    "            else:\n",
    "                # Otherwise, set the value for the hash value key to the score\n",
    "                node_pair_scores[hash_value] = scores[i]\n",
    "\n",
    "# Print the dictionary\n",
    "print(len(node_pair_scores))\n"
   ]
  },
  {
   "cell_type": "code",
   "execution_count": 14,
   "metadata": {
    "colab": {
     "base_uri": "https://localhost:8080/"
    },
    "id": "2DyeCXQnIV_I",
    "outputId": "c6b7c8cb-ed2f-4224-fcdf-e88ebe3957f3"
   },
   "outputs": [
    {
     "name": "stdout",
     "output_type": "stream",
     "text": [
      "743\n"
     ]
    }
   ],
   "source": [
    "import hashlib\n",
    "\n",
    "def hash_function(node1, node2):\n",
    "    # Sort the nodes to ensure that (2,3) and (3,2) have the same hash value\n",
    "    node_pair = f\"{my_min(node1, node2)}-{my_max(node1, node2)}\"\n",
    "\n",
    "    # Hash the concatenated string using SHA-256\n",
    "    hash_object = hashlib.sha256(node_pair.encode())\n",
    "    hash_value = hash_object.hexdigest()\n",
    "\n",
    "    return hash_value\n",
    "\n",
    "\n",
    "# Example usage\n",
    "nodes = cycle_2nodes\n",
    "scores = score_2_cycles\n",
    "\n",
    "# Create a dictionary to store the node pair scores\n",
    "\n",
    "# Iterate over the list of nodes\n",
    "for i in range(len(nodes)):\n",
    "    # Compute the hash value for the pair of nodes\n",
    "    #print(nodes[i][0], nodes[i][1])\n",
    "    hash_value = hash_function(nodes[i][0], nodes[i][1])\n",
    "\n",
    "    # Check if the hash value already exists in the dictionary\n",
    "    if hash_value in node_pair_scores:\n",
    "        # If it does, add the new score to the existing value\n",
    "        node_pair_scores[hash_value] += scores[i]\n",
    "    else:\n",
    "        # Otherwise, set the value for the hash value key to the score\n",
    "        node_pair_scores[hash_value] = scores[i]\n",
    "\n",
    "# Print the dictionary\n",
    "print(len(node_pair_scores))\n"
   ]
  },
  {
   "cell_type": "markdown",
   "metadata": {
    "id": "grHDicZhcAHi"
   },
   "source": [
    "**For the undirected graph , we creating a graph G_un. Edge value between 2 nodes in G_un will be "
   ]
  },
  {
   "cell_type": "markdown",
   "metadata": {
    "id": "_0_kIY3QYGZt"
   },
   "source": [
    "\n",
    "\n",
    "---\n",
    "\n"
   ]
  },
  {
   "cell_type": "markdown",
   "metadata": {
    "id": "d1P-DG0fWPzx"
   },
   "source": [
    "</br>"
   ]
  },
  {
   "cell_type": "code",
   "execution_count": 17,
   "metadata": {
    "id": "gopaUZY6WTAw"
   },
   "outputs": [],
   "source": [
    "G_un = nx.Graph()\n",
    "\n",
    "\n",
    "# read the data from the CSV file\n",
    "with open('./Iron_dealers_data.csv', 'r') as f:\n",
    "    reader = csv.reader(f)\n",
    "    next(reader)  # skip the header row\n",
    "    for row in reader:\n",
    "        seller = int(row[0])\n",
    "        buyer = int(row[1])\n",
    "        #value = float(row[2])\n",
    "        \n",
    "        # add seller and buyer as vertices if not already present\n",
    "        if not G_un.has_node(seller):\n",
    "            G_un.add_node(seller)\n",
    "        if not G_un.has_node(buyer):\n",
    "            G_un.add_node(buyer)\n",
    "        \n",
    "        # add the transaction as an edge with the transaction amount as the weight\n",
    "        if G_un.has_edge(seller, buyer):\n",
    "            G_un[seller][buyer]['weight'] = -1\n",
    "        else:\n",
    "            G_un.add_edge(seller, buyer, weight= -1)\n",
    "\n",
    "\n",
    "\n"
   ]
  },
  {
   "cell_type": "code",
   "execution_count": 18,
   "metadata": {
    "colab": {
     "base_uri": "https://localhost:8080/"
    },
    "id": "9YYljK7xc_Jz",
    "outputId": "a138d3e4-5a61-4924-8811-4da68c973d9a"
   },
   "outputs": [
    {
     "name": "stdout",
     "output_type": "stream",
     "text": [
      "Graph with 799 nodes and 5040 edges\n"
     ]
    }
   ],
   "source": [
    "print(G_un)"
   ]
  },
  {
   "cell_type": "code",
   "execution_count": 19,
   "metadata": {
    "id": "p-ydvdNhZs2z"
   },
   "outputs": [],
   "source": [
    "for u,v in G_un.edges():\n",
    "  key=hash_function(u,v)\n",
    "  key=str(key)\n",
    "  if key in node_pair_scores:\n",
    "    G_un[u][v]['weight']+= node_pair_scores[key]\n",
    "\n",
    "  "
   ]
  },
  {
   "cell_type": "code",
   "execution_count": 34,
   "metadata": {
    "colab": {
     "base_uri": "https://localhost:8080/"
    },
    "id": "YJ31jkB1Zxl2",
    "outputId": "a3857c0c-71ea-4cd3-d921-f03f7e01c261"
   },
   "outputs": [
    {
     "name": "stdout",
     "output_type": "stream",
     "text": [
      "Maximum weight: 1572416926.2798965\n",
      "Minimum weight: -3\n",
      "Number of non-negative weights: 743\n",
      "Nodes with negative weights: {1027, 1034, 1035, 1037, 1040, 1041, 1043, 1049, 1054, 1056, 1072, 1074, 1076, 1080, 1089, 1096, 1098, 1099, 1101, 1105, 1108, 1114, 1632, 1640, 1129, 1130, 1133, 1136, 1138, 1140, 1141, 1147, 1148, 1149, 1155, 1163, 1676, 1166, 1173, 1175, 1179, 1181, 1189, 1194, 1197, 1199, 1201, 1204, 1217, 1222, 1226, 1235, 1242, 1246, 1249, 1282, 1283, 1296, 1298, 1306, 1308, 1309, 1310, 1317, 1319, 1327, 1330, 1339, 1341, 1342, 1356, 1364, 1370, 1375, 1377, 1379, 1381, 1406, 1433, 1439, 1510, 1002, 1007, 1011, 1523, 1014, 1016, 1020, 1021, 1023}\n",
      "90\n",
      "Graph with 799 nodes and 5040 edges\n"
     ]
    }
   ],
   "source": [
    "max_weight = float('-inf')\n",
    "min_weight = float('inf')\n",
    "count = 0\n",
    "negative_weight_nodes = set()\n",
    "\n",
    "for edge in G_un.edges():\n",
    "    node1 = edge[0]\n",
    "    node2 = edge[1]\n",
    "    weight = G_un.get_edge_data(node1, node2)['weight']\n",
    "    if(weight != -1):\n",
    "        count = count + 1\n",
    "        if weight > max_weight:\n",
    "            max_weight = weight\n",
    "        if weight < min_weight:\n",
    "            min_weight = weight\n",
    "        if weight < 0:\n",
    "            negative_weight_nodes.add(node1)\n",
    "            negative_weight_nodes.add(node2)\n",
    "\n",
    "print(f\"Maximum weight: {max_weight}\")\n",
    "print(f\"Minimum weight: {min_weight}\")\n",
    "print(f\"Number of non-negative weights: {count}\")\n",
    "print(f\"Nodes with negative weights: {negative_weight_nodes}\")\n",
    "print(len(negative_weight_nodes))\n",
    "print(G_un)\n"
   ]
  },
  {
   "cell_type": "markdown",
   "metadata": {
    "id": "1O0HTejrdfZe"
   },
   "source": [
    "\n",
    "\n",
    "---\n",
    "\n",
    "\n",
    "\n",
    "---\n",
    "\n"
   ]
  },
  {
   "cell_type": "markdown",
   "metadata": {},
   "source": [
    "# applying node2vec on G\n"
   ]
  },
  {
   "cell_type": "code",
   "execution_count": 22,
   "metadata": {
    "colab": {
     "base_uri": "https://localhost:8080/",
     "height": 415
    },
    "id": "kYUOWkHReSPU",
    "outputId": "0969a903-132b-4425-b5af-b8d55444f57f"
   },
   "outputs": [
    {
     "name": "stdout",
     "output_type": "stream",
     "text": [
      "Defaulting to user installation because normal site-packages is not writeable\n",
      "Requirement already satisfied: node2vec in /home/manish/.local/lib/python3.8/site-packages (0.4.6)\n",
      "Requirement already satisfied: gensim<5.0.0,>=4.1.2 in /home/manish/.local/lib/python3.8/site-packages (from node2vec) (4.3.1)\n",
      "Requirement already satisfied: joblib<2.0.0,>=1.1.0 in /home/manish/.local/lib/python3.8/site-packages (from node2vec) (1.2.0)\n",
      "Requirement already satisfied: networkx<3.0,>=2.5 in /home/manish/.local/lib/python3.8/site-packages (from node2vec) (2.8.8)\n",
      "Requirement already satisfied: numpy<2.0.0,>=1.19.5 in /home/manish/.local/lib/python3.8/site-packages (from node2vec) (1.23.4)\n",
      "Requirement already satisfied: tqdm<5.0.0,>=4.55.1 in /home/manish/.local/lib/python3.8/site-packages (from node2vec) (4.65.0)\n",
      "Requirement already satisfied: scipy>=1.7.0 in /home/manish/.local/lib/python3.8/site-packages (from gensim<5.0.0,>=4.1.2->node2vec) (1.9.1)\n",
      "Requirement already satisfied: smart-open>=1.8.1 in /home/manish/.local/lib/python3.8/site-packages (from gensim<5.0.0,>=4.1.2->node2vec) (6.3.0)\n"
     ]
    }
   ],
   "source": [
    "!pip install node2vec"
   ]
  },
  {
   "cell_type": "code",
   "execution_count": 38,
   "metadata": {
    "colab": {
     "base_uri": "https://localhost:8080/",
     "height": 66,
     "referenced_widgets": [
      "2d1cba262f2c4c3693f782321d714c0d",
      "4cd3ccd1f2084992af4d154ba2548b9b",
      "ca9ca1c2fb984a989f51be038ed55bd0",
      "593a1eff79e046c380c827fce258614d",
      "0b72b3208baa4c728f6b0fa0110029ea",
      "36c66605f36e4fe8b6ba94b2e1efa6d2",
      "48d93d467c8e40929a2de631f28903cd",
      "3beccfc720e74980bbc770b5b9b85161",
      "8c761e1b37784590b8675930e136b0a2",
      "1208e064480d4270afc55c08ee4ec669",
      "c6ba7fd59a3d4a438b35e73dbf59f2bc"
     ]
    },
    "id": "fJTGYcyBevu4",
    "outputId": "067f1e19-5132-4cac-baa0-9dfad8f6db3f"
   },
   "outputs": [
    {
     "data": {
      "application/vnd.jupyter.widget-view+json": {
       "model_id": "265f8fc6b718402aa4ed3718f67a4a59",
       "version_major": 2,
       "version_minor": 0
      },
      "text/plain": [
       "Computing transition probabilities:   0%|          | 0/799 [00:00<?, ?it/s]"
      ]
     },
     "metadata": {},
     "output_type": "display_data"
    },
    {
     "name": "stderr",
     "output_type": "stream",
     "text": [
      "Generating walks (CPU: 1): 100%|██████████████| 200/200 [00:23<00:00,  8.66it/s]\n"
     ]
    }
   ],
   "source": [
    "import networkx as nx\n",
    "from node2vec import Node2Vec\n",
    "\n",
    "\n",
    "# create an example undirected graph\n",
    "G = G_un\n",
    "\n",
    "\n",
    "node2vec = Node2Vec(G, dimensions=4, walk_length=10, num_walks=200, weight_key='weight', p=1, q=0.5)\n",
    "\n",
    "\n",
    "# generate embeddings using the Node2Vec object\n",
    "model = node2vec.fit(window=5, min_count=1)\n",
    "\n",
    "\n",
    "# get the embeddings for all nodes in the graph\n",
    "embeddings = {str(node): model.wv[str(node)] for node in G.nodes()}"
   ]
  },
  {
   "cell_type": "markdown",
   "metadata": {},
   "source": [
    "# DBscan"
   ]
  },
  {
   "cell_type": "code",
   "execution_count": 49,
   "metadata": {},
   "outputs": [
    {
     "name": "stderr",
     "output_type": "stream",
     "text": [
      "/tmp/ipykernel_6854/842064419.py:22: MatplotlibDeprecationWarning: The get_cmap function was deprecated in Matplotlib 3.7 and will be removed two minor releases later. Use ``matplotlib.colormaps[name]`` or ``matplotlib.colormaps.get_cmap(obj)`` instead.\n",
      "  cmap = plt.cm.get_cmap('viridis', n_clusters)  # choose a colormap\n",
      "/tmp/ipykernel_6854/842064419.py:35: UserWarning: *c* argument looks like a single numeric RGB or RGBA sequence, which should be avoided as value-mapping will have precedence in case its length matches with *x* & *y*.  Please use the *color* keyword-argument or provide a 2D array with a single row if you intend to specify the same RGB or RGBA value for all points.\n",
      "  ax.scatter(X[labels==label, 0], X[labels==label, 1], c=color, alpha=0.5, label=f'class {label+1} of fraudsters')\n"
     ]
    },
    {
     "data": {
      "image/png": "[encoded data removed]",
      "text/plain": [
       "<Figure size 800x800 with 1 Axes>"
      ]
     },
     "metadata": {},
     "output_type": "display_data"
    }
   ],
   "source": [
    "from sklearn.cluster import DBSCAN\n",
    "import numpy as np\n",
    "import matplotlib.pyplot as plt\n",
    "import matplotlib.colors as mcolors\n",
    "\n",
    "# convert the embeddings dictionary to a numpy array\n",
    "X = np.array(list(embeddings.values()))\n",
    "\n",
    "# apply DBSCAN clustering\n",
    "db = DBSCAN(eps=0.8, min_samples=5).fit(X)\n",
    "labels = db.labels_\n",
    "\n",
    "# count the number of points in each cluster\n",
    "unique_labels, label_counts = np.unique(labels, return_counts=True)\n",
    "label_counts_dict = dict(zip(unique_labels, label_counts))\n",
    "\n",
    "# sort the clusters based on their density (number of points)\n",
    "sorted_labels = sorted(unique_labels, key=lambda x: label_counts_dict[x], reverse=True)\n",
    "\n",
    "# assign colors to the clusters\n",
    "n_clusters = len(unique_labels)\n",
    "cmap = plt.cm.get_cmap('viridis', n_clusters)  # choose a colormap\n",
    "colors = [cmap(i/n_clusters) for i in range(n_clusters)]\n",
    "cluster_colors = dict(zip(sorted_labels, colors))\n",
    "\n",
    "# plot the clusters\n",
    "fig, ax = plt.subplots(figsize=(8,8))\n",
    "for label in np.unique(labels):\n",
    "    if label == -1:\n",
    "        # plot noise points in black\n",
    "        ax.scatter(X[labels==label, 0], X[labels==label, 1], c='k', alpha=0.5,label='non fraudsters')\n",
    "    else:\n",
    "        # plot the points in the cluster with the assigned color\n",
    "        color = cluster_colors[label]\n",
    "        ax.scatter(X[labels==label, 0], X[labels==label, 1], c=color, alpha=0.5, label=f'class {label+1} of fraudsters')\n",
    "ax.legend()\n",
    "plt.show()\n"
   ]
  },
  {
   "cell_type": "code",
   "execution_count": 53,
   "metadata": {},
   "outputs": [
    {
     "name": "stdout",
     "output_type": "stream",
     "text": [
      "Nodes in label -1: ['1045', '1018', '1595', '1148', '1159', '1077', '1087', '1080', '1014', '1215', '1065', '1390', '1939', '1302', '1114', '1475', '1179', '1818', '1330', '1064', '1133', '1025', '1248', '1106', '1798', '1033', '1771', '1772', '1067', '1244', '1849', '1118', '1239', '1115', '1451', '1227', '1314', '1094', '1122', '1499', '1710', '1626', '1846', '1935', '1717', '1877', '1454', '1298', '2172', '1518', '2014', '1318', '1975', '1055', '1758', '1250', '1381', '1355', '1305', '1102', '1444', '1226', '1249', '1313', '1395', '1725', '1731', '1266', '1460', '1800', '1369', '1498', '1614', '1879', '1457', '1354', '1549', '2021', '1596', '1437', '1609', '1203', '1312', '1644', '1097', '1600', '1385', '1325', '1464', '1816', '1304', '1410', '1588', '1873', '1572', '1376', '1495', '1176', '1550', '1571', '1425', '1530', '1225', '1047', '1688', '2169', '1925', '1836', '1870', '1453']\n",
      "Nodes in label 0: ['1309', '1011', '1259', '1568', '1147', '1393', '1039', '1256', '1074', '1668', '1163', '1007', '1034', '1832', '1099', '1488', '1801', '1076', '1944', '1659', '1048', '1220', '1032', '1837', '1061', '1222', '1017', '1075', '1023', '2085', '1503', '2088', '1350', '1327', '1276', '1666', '1056', '1748', '1658', '1003', '1228', '1138', '1089', '1002', '1623', '1264', '1875', '1004', '1090', '1051', '1101', '1079', '1104', '1839', '1747', '1135', '1656', '1500', '1136', '1172', '1132', '1809', '1774', '1037', '1930', '2184', '1243', '1293', '1990', '1690', '1449', '1310', '1679', '1335', '1862', '1049', '1105', '1766', '1013', '1541', '1961', '1575', '1189', '1723', '1962', '1084', '1480', '2146', '1405', '1016', '1729', '2166', '2073', '1015', '1344', '1917', '1535', '1098', '1701', '1009', '1191', '1142', '1081', '1146', '1199', '1754', '1545', '1134', '1517', '1202', '1389', '1356', '1068', '1633', '1108', '1140', '1120', '1528', '1678', '1447', '1326', '1181', '1246', '1406', '1168', '1046', '1019', '1058', '1040', '1060', '1078', '1581', '1353', '1287', '1128', '1149', '1209', '1813', '1529', '2031', '1236', '1617', '1470', '1484', '1835', '1696', '1553', '1582', '2034', '1598', '1645', '1261', '1597', '1591', '1339', '1780', '1031', '1145', '1891', '1959', '2071', '1469', '1769', '1562', '1419', '1245', '1162', '1223', '1054', '1224', '2190', '1473', '1757', '1283', '1391', '1859', '1103', '1524', '1764', '1397', '2072', '2000', '2142', '1914', '2109', '1151', '1096', '1021', '1624', '1072', '1272', '1753', '1611', '2151', '1291', '1201', '1020', '1290', '1422', '1775', '1612', '1289', '1328', '1906', '1519', '1604', '1501', '1446', '1116', '1184', '1217', '1050', '1956', '1308', '1185', '1006', '1166', '1855', '2017', '1066', '1022', '1024', '1857', '1100', '1698', '1008', '1660', '1793', '1396', '1927', '1379', '1177', '1382', '1110', '2108', '1646', '1377', '2158', '2107', '1194', '1063', '1533', '2152', '1306', '1505', '1030', '1053', '1511', '1392', '1111', '1824', '1278', '1338', '1557', '1608', '1523', '1720', '1443', '2097', '2012', '1286', '1113', '1606', '1044', '2039', '1083', '2124', '1211', '1112', '1743', '1594', '1510', '1995', '1472', '1026', '1739', '1461', '2028', '1282', '1789', '2100', '1858', '1387', '1722', '2054', '2076', '1358', '1452', '1433', '1537', '1570', '1240', '1676', '2066', '1028', '1388', '1323', '1351', '1038', '1262', '1534', '1559', '1247', '2126', '2111', '1160', '2084', '1183', '2137', '1828', '1724', '1274', '1786', '1340', '1137', '1366', '1152', '1599', '1275', '1269', '1322', '2053', '1977', '2081', '1951', '1439', '1197', '1638', '1579', '1242', '1632', '1010', '1307', '1124', '2188', '1186', '1204', '1059', '1268', '1139', '1651', '1001', '1432', '1539', '1672', '1082', '1887', '1267', '1200', '1071', '1164', '1551', '1232', '1647', '1412', '1708', '1629', '2177', '1052', '1154', '1969', '1093', '2008', '1214', '1845', '1143', '1155', '1749', '2061', '1580', '1759', '1347', '2189', '1555', '1342', '1946', '1175', '1296', '1187', '1543', '1157', '1573', '1942', '1420', '1544', '1070', '1230', '1311', '1450', '1728', '1686', '1129', '1285', '1130', '1542', '1445', '1694', '2089', '2104', '1871', '1349', '1123', '1141', '1363', '1121', '1648', '1218', '1691', '1158', '1317', '1657', '1182', '1027', '1525', '1255', '1029', '1716', '1036', '1531', '1827', '1429', '1375', '1085', '1456', '1602', '1324', '2171', '1601', '1156', '1213', '2047', '1241', '1260', '2174', '2127', '2101', '2164', '1916', '1664', '1440', '1932', '2136', '2182', '2162', '1671', '2027', '2024', '1300', '1292', '1180', '1235', '1231', '1634', '1319', '1669', '2052', '1370', '1337', '1949', '1933', '1592', '1173', '1041', '1520', '1733', '1778', '1864', '1770', '1329', '2003', '2078', '1921', '1702', '2026', '1554', '1434', '1777', '1763', '1192', '1251', '1294', '1043', '1986', '1482', '1783', '1427', '1960', '1966', '1474', '1190', '1219', '1514', '2060', '1315', '1874', '1978', '1807', '1107', '1109', '1362', '1765', '2023', '1907', '1627', '2001', '2036', '1091', '1998', '1803', '2093', '1207', '1212', '1821', '1584', '1784', '1703', '1125', '1196', '1012', '1750', '1265', '1171', '1476', '1762', '1684', '2057', '1426', '1341', '1776', '1502', '1178', '1208', '1254', '1263', '1901', '2080', '1955', '1398', '1899', '1400', '1436', '1458', '1788', '1504', '1903', '1483', '1506', '1497', '2168', '1808', '1508', '1238', '1817', '1649', '1513', '1546', '1953', '1574', '1752', '1822', '1558', '1127', '1576', '1131', '1153', '1161', '1331', '1833', '1732', '1971', '1374', '1380', '1485', '1198', '1566', '1740', '1567', '1811', '1430', '1481', '1493', '1865', '1767', '1463', '2090', '1863', '1466', '1373', '1804', '2043', '1273', '1295', '1424', '1438', '1364', '1635', '1316', '1348', '1216', '1489', '1372', '1838', '1585', '2150', '1421', '1861', '1882', '1423', '1428', '1866', '1565', '2145', '1886', '1521', '1522', '1069', '2062', '1270', '1303', '1970', '1359', '1117', '1301', '1411', '1417', '1465', '1540', '1689', '1569', '1188', '1252', '1673', '1552', '1206', '1234', '1616', '1237', '1441', '1253', '2025', '1785', '2170', '1829', '1830', '1991', '1288', '1320', '1332', '1352']\n",
      "Nodes in label 1: ['1210', '1005', '1042', '1205', '1086']\n",
      "Nodes in label 2: ['1057', '1195', '1167', '1165', '1258']\n",
      "Nodes in label 3: ['1431', '1035', '1126', '1073', '1471', '1092']\n",
      "Nodes in label 4: ['1144', '1088', '1802', '1950', '1755', '1336', '1193', '1346']\n",
      "Nodes in label 5: ['1640', '2075', '1790', '2050', '1692', '1343', '1881']\n",
      "Nodes in label 6: ['1357', '1333', '1367', '1980']\n",
      "Nodes in label 7: ['1062', '1383', '1462', '1735', '1515']\n"
     ]
    }
   ],
   "source": [
    "# get the embeddings as a list\n",
    "embedding_list = list(embeddings.values())\n",
    "\n",
    "# get the nodes in each label\n",
    "nodes_by_label = {}\n",
    "for label in np.unique(labels):\n",
    "    nodes = [node for node, embedding in embeddings.items() if np.any(np.all(np.array(embedding) == np.array(embedding_list)[labels == label], axis=1))]\n",
    "    nodes_by_label[label] = nodes\n",
    "\n",
    "# print the nodes in each label\n",
    "for label, nodes in nodes_by_label.items():\n",
    "    print(f\"Nodes in label {label}: {nodes}\")\n"
   ]
  },
  {
   "cell_type": "code",
   "execution_count": null,
   "metadata": {},
   "outputs": [],
   "source": []
  }
 ],
 "metadata": {
  "colab": {
   "provenance": []
  },
  "kernelspec": {
   "display_name": "Python 3 (ipykernel)",
   "language": "python",
   "name": "python3"
  },
  "language_info": {
   "codemirror_mode": {
    "name": "ipython",
    "version": 3
   },
   "file_extension": ".py",
   "mimetype": "text/x-python",
   "name": "python",
   "nbconvert_exporter": "python",
   "pygments_lexer": "ipython3",
   "version": "3.8.10"
  },
  "widgets": {
   "application/vnd.jupyter.widget-state+json": {
    "070e5975127c40d28932abf62f73092e": {
     "model_module": "@jupyter-widgets/base",
     "model_module_version": "1.2.0",
     "model_name": "LayoutModel",
     "state": {
      "_model_module": "@jupyter-widgets/base",
      "_model_module_version": "1.2.0",
      "_model_name": "LayoutModel",
      "_view_count": null,
      "_view_module": "@jupyter-widgets/base",
      "_view_module_version": "1.2.0",
      "_view_name": "LayoutView",
      "align_content": null,
      "align_items": null,
      "align_self": null,
      "border": null,
      "bottom": null,
      "display": null,
      "flex": null,
      "flex_flow": null,
      "grid_area": null,
      "grid_auto_columns": null,
      "grid_auto_flow": null,
      "grid_auto_rows": null,
      "grid_column": null,
      "grid_gap": null,
      "grid_row": null,
      "grid_template_areas": null,
      "grid_template_columns": null,
      "grid_template_rows": null,
      "height": null,
      "justify_content": null,
      "justify_items": null,
      "left": null,
      "margin": null,
      "max_height": null,
      "max_width": null,
      "min_height": null,
      "min_width": null,
      "object_fit": null,
      "object_position": null,
      "order": null,
      "overflow": null,
      "overflow_x": null,
      "overflow_y": null,
      "padding": null,
      "right": null,
      "top": null,
      "visibility": null,
      "width": null
     }
    },
    "0b72b3208baa4c728f6b0fa0110029ea": {
     "model_module": "@jupyter-widgets/base",
     "model_module_version": "1.2.0",
     "model_name": "LayoutModel",
     "state": {
      "_model_module": "@jupyter-widgets/base",
      "_model_module_version": "1.2.0",
      "_model_name": "LayoutModel",
      "_view_count": null,
      "_view_module": "@jupyter-widgets/base",
      "_view_module_version": "1.2.0",
      "_view_name": "LayoutView",
      "align_content": null,
      "align_items": null,
      "align_self": null,
      "border": null,
      "bottom": null,
      "display": null,
      "flex": null,
      "flex_flow": null,
      "grid_area": null,
      "grid_auto_columns": null,
      "grid_auto_flow": null,
      "grid_auto_rows": null,
      "grid_column": null,
      "grid_gap": null,
      "grid_row": null,
      "grid_template_areas": null,
      "grid_template_columns": null,
      "grid_template_rows": null,
      "height": null,
      "justify_content": null,
      "justify_items": null,
      "left": null,
      "margin": null,
      "max_height": null,
      "max_width": null,
      "min_height": null,
      "min_width": null,
      "object_fit": null,
      "object_position": null,
      "order": null,
      "overflow": null,
      "overflow_x": null,
      "overflow_y": null,
      "padding": null,
      "right": null,
      "top": null,
      "visibility": null,
      "width": null
     }
    },
    "103a6cff3cc24677b00864c20fc13e37": {
     "model_module": "@jupyter-widgets/controls",
     "model_module_version": "1.5.0",
     "model_name": "ProgressStyleModel",
     "state": {
      "_model_module": "@jupyter-widgets/controls",
      "_model_module_version": "1.5.0",
      "_model_name": "ProgressStyleModel",
      "_view_count": null,
      "_view_module": "@jupyter-widgets/base",
      "_view_module_version": "1.2.0",
      "_view_name": "StyleView",
      "bar_color": null,
      "description_width": ""
     }
    },
    "1208e064480d4270afc55c08ee4ec669": {
     "model_module": "@jupyter-widgets/base",
     "model_module_version": "1.2.0",
     "model_name": "LayoutModel",
     "state": {
      "_model_module": "@jupyter-widgets/base",
      "_model_module_version": "1.2.0",
      "_model_name": "LayoutModel",
      "_view_count": null,
      "_view_module": "@jupyter-widgets/base",
      "_view_module_version": "1.2.0",
      "_view_name": "LayoutView",
      "align_content": null,
      "align_items": null,
      "align_self": null,
      "border": null,
      "bottom": null,
      "display": null,
      "flex": null,
      "flex_flow": null,
      "grid_area": null,
      "grid_auto_columns": null,
      "grid_auto_flow": null,
      "grid_auto_rows": null,
      "grid_column": null,
      "grid_gap": null,
      "grid_row": null,
      "grid_template_areas": null,
      "grid_template_columns": null,
      "grid_template_rows": null,
      "height": null,
      "justify_content": null,
      "justify_items": null,
      "left": null,
      "margin": null,
      "max_height": null,
      "max_width": null,
      "min_height": null,
      "min_width": null,
      "object_fit": null,
      "object_position": null,
      "order": null,
      "overflow": null,
      "overflow_x": null,
      "overflow_y": null,
      "padding": null,
      "right": null,
      "top": null,
      "visibility": null,
      "width": null
     }
    },
    "24136fa6721c496ab8d6bb151428fef7": {
     "model_module": "@jupyter-widgets/base",
     "model_module_version": "1.2.0",
     "model_name": "LayoutModel",
     "state": {
      "_model_module": "@jupyter-widgets/base",
      "_model_module_version": "1.2.0",
      "_model_name": "LayoutModel",
      "_view_count": null,
      "_view_module": "@jupyter-widgets/base",
      "_view_module_version": "1.2.0",
      "_view_name": "LayoutView",
      "align_content": null,
      "align_items": null,
      "align_self": null,
      "border": null,
      "bottom": null,
      "display": null,
      "flex": null,
      "flex_flow": null,
      "grid_area": null,
      "grid_auto_columns": null,
      "grid_auto_flow": null,
      "grid_auto_rows": null,
      "grid_column": null,
      "grid_gap": null,
      "grid_row": null,
      "grid_template_areas": null,
      "grid_template_columns": null,
      "grid_template_rows": null,
      "height": null,
      "justify_content": null,
      "justify_items": null,
      "left": null,
      "margin": null,
      "max_height": null,
      "max_width": null,
      "min_height": null,
      "min_width": null,
      "object_fit": null,
      "object_position": null,
      "order": null,
      "overflow": null,
      "overflow_x": null,
      "overflow_y": null,
      "padding": null,
      "right": null,
      "top": null,
      "visibility": null,
      "width": null
     }
    },
    "2d1cba262f2c4c3693f782321d714c0d": {
     "model_module": "@jupyter-widgets/controls",
     "model_module_version": "1.5.0",
     "model_name": "HBoxModel",
     "state": {
      "_dom_classes": [],
      "_model_module": "@jupyter-widgets/controls",
      "_model_module_version": "1.5.0",
      "_model_name": "HBoxModel",
      "_view_count": null,
      "_view_module": "@jupyter-widgets/controls",
      "_view_module_version": "1.5.0",
      "_view_name": "HBoxView",
      "box_style": "",
      "children": [
       "IPY_MODEL_4cd3ccd1f2084992af4d154ba2548b9b",
       "IPY_MODEL_ca9ca1c2fb984a989f51be038ed55bd0",
       "IPY_MODEL_593a1eff79e046c380c827fce258614d"
      ],
      "layout": "IPY_MODEL_0b72b3208baa4c728f6b0fa0110029ea"
     }
    },
    "36c66605f36e4fe8b6ba94b2e1efa6d2": {
     "model_module": "@jupyter-widgets/base",
     "model_module_version": "1.2.0",
     "model_name": "LayoutModel",
     "state": {
      "_model_module": "@jupyter-widgets/base",
      "_model_module_version": "1.2.0",
      "_model_name": "LayoutModel",
      "_view_count": null,
      "_view_module": "@jupyter-widgets/base",
      "_view_module_version": "1.2.0",
      "_view_name": "LayoutView",
      "align_content": null,
      "align_items": null,
      "align_self": null,
      "border": null,
      "bottom": null,
      "display": null,
      "flex": null,
      "flex_flow": null,
      "grid_area": null,
      "grid_auto_columns": null,
      "grid_auto_flow": null,
      "grid_auto_rows": null,
      "grid_column": null,
      "grid_gap": null,
      "grid_row": null,
      "grid_template_areas": null,
      "grid_template_columns": null,
      "grid_template_rows": null,
      "height": null,
      "justify_content": null,
      "justify_items": null,
      "left": null,
      "margin": null,
      "max_height": null,
      "max_width": null,
      "min_height": null,
      "min_width": null,
      "object_fit": null,
      "object_position": null,
      "order": null,
      "overflow": null,
      "overflow_x": null,
      "overflow_y": null,
      "padding": null,
      "right": null,
      "top": null,
      "visibility": null,
      "width": null
     }
    },
    "3beccfc720e74980bbc770b5b9b85161": {
     "model_module": "@jupyter-widgets/base",
     "model_module_version": "1.2.0",
     "model_name": "LayoutModel",
     "state": {
      "_model_module": "@jupyter-widgets/base",
      "_model_module_version": "1.2.0",
      "_model_name": "LayoutModel",
      "_view_count": null,
      "_view_module": "@jupyter-widgets/base",
      "_view_module_version": "1.2.0",
      "_view_name": "LayoutView",
      "align_content": null,
      "align_items": null,
      "align_self": null,
      "border": null,
      "bottom": null,
      "display": null,
      "flex": null,
      "flex_flow": null,
      "grid_area": null,
      "grid_auto_columns": null,
      "grid_auto_flow": null,
      "grid_auto_rows": null,
      "grid_column": null,
      "grid_gap": null,
      "grid_row": null,
      "grid_template_areas": null,
      "grid_template_columns": null,
      "grid_template_rows": null,
      "height": null,
      "justify_content": null,
      "justify_items": null,
      "left": null,
      "margin": null,
      "max_height": null,
      "max_width": null,
      "min_height": null,
      "min_width": null,
      "object_fit": null,
      "object_position": null,
      "order": null,
      "overflow": null,
      "overflow_x": null,
      "overflow_y": null,
      "padding": null,
      "right": null,
      "top": null,
      "visibility": null,
      "width": null
     }
    },
    "3d874d908bc140bc99e990d265fdfe34": {
     "model_module": "@jupyter-widgets/controls",
     "model_module_version": "1.5.0",
     "model_name": "HTMLModel",
     "state": {
      "_dom_classes": [],
      "_model_module": "@jupyter-widgets/controls",
      "_model_module_version": "1.5.0",
      "_model_name": "HTMLModel",
      "_view_count": null,
      "_view_module": "@jupyter-widgets/controls",
      "_view_module_version": "1.5.0",
      "_view_name": "HTMLView",
      "description": "",
      "description_tooltip": null,
      "layout": "IPY_MODEL_a73b19a3af1248c09fc32853d54099fa",
      "placeholder": "​",
      "style": "IPY_MODEL_4c4c183e9e764313b559dafb620910d6",
      "value": " 799/799 [00:02&lt;00:00, 666.05it/s]"
     }
    },
    "48d93d467c8e40929a2de631f28903cd": {
     "model_module": "@jupyter-widgets/controls",
     "model_module_version": "1.5.0",
     "model_name": "DescriptionStyleModel",
     "state": {
      "_model_module": "@jupyter-widgets/controls",
      "_model_module_version": "1.5.0",
      "_model_name": "DescriptionStyleModel",
      "_view_count": null,
      "_view_module": "@jupyter-widgets/base",
      "_view_module_version": "1.2.0",
      "_view_name": "StyleView",
      "description_width": ""
     }
    },
    "4c4c183e9e764313b559dafb620910d6": {
     "model_module": "@jupyter-widgets/controls",
     "model_module_version": "1.5.0",
     "model_name": "DescriptionStyleModel",
     "state": {
      "_model_module": "@jupyter-widgets/controls",
      "_model_module_version": "1.5.0",
      "_model_name": "DescriptionStyleModel",
      "_view_count": null,
      "_view_module": "@jupyter-widgets/base",
      "_view_module_version": "1.2.0",
      "_view_name": "StyleView",
      "description_width": ""
     }
    },
    "4cd3ccd1f2084992af4d154ba2548b9b": {
     "model_module": "@jupyter-widgets/controls",
     "model_module_version": "1.5.0",
     "model_name": "HTMLModel",
     "state": {
      "_dom_classes": [],
      "_model_module": "@jupyter-widgets/controls",
      "_model_module_version": "1.5.0",
      "_model_name": "HTMLModel",
      "_view_count": null,
      "_view_module": "@jupyter-widgets/controls",
      "_view_module_version": "1.5.0",
      "_view_name": "HTMLView",
      "description": "",
      "description_tooltip": null,
      "layout": "IPY_MODEL_36c66605f36e4fe8b6ba94b2e1efa6d2",
      "placeholder": "​",
      "style": "IPY_MODEL_48d93d467c8e40929a2de631f28903cd",
      "value": "Computing transition probabilities: 100%"
     }
    },
    "530e5b4e3a7642a2a51e16ee784d06de": {
     "model_module": "@jupyter-widgets/base",
     "model_module_version": "1.2.0",
     "model_name": "LayoutModel",
     "state": {
      "_model_module": "@jupyter-widgets/base",
      "_model_module_version": "1.2.0",
      "_model_name": "LayoutModel",
      "_view_count": null,
      "_view_module": "@jupyter-widgets/base",
      "_view_module_version": "1.2.0",
      "_view_name": "LayoutView",
      "align_content": null,
      "align_items": null,
      "align_self": null,
      "border": null,
      "bottom": null,
      "display": null,
      "flex": null,
      "flex_flow": null,
      "grid_area": null,
      "grid_auto_columns": null,
      "grid_auto_flow": null,
      "grid_auto_rows": null,
      "grid_column": null,
      "grid_gap": null,
      "grid_row": null,
      "grid_template_areas": null,
      "grid_template_columns": null,
      "grid_template_rows": null,
      "height": null,
      "justify_content": null,
      "justify_items": null,
      "left": null,
      "margin": null,
      "max_height": null,
      "max_width": null,
      "min_height": null,
      "min_width": null,
      "object_fit": null,
      "object_position": null,
      "order": null,
      "overflow": null,
      "overflow_x": null,
      "overflow_y": null,
      "padding": null,
      "right": null,
      "top": null,
      "visibility": null,
      "width": null
     }
    },
    "593a1eff79e046c380c827fce258614d": {
     "model_module": "@jupyter-widgets/controls",
     "model_module_version": "1.5.0",
     "model_name": "HTMLModel",
     "state": {
      "_dom_classes": [],
      "_model_module": "@jupyter-widgets/controls",
      "_model_module_version": "1.5.0",
      "_model_name": "HTMLModel",
      "_view_count": null,
      "_view_module": "@jupyter-widgets/controls",
      "_view_module_version": "1.5.0",
      "_view_name": "HTMLView",
      "description": "",
      "description_tooltip": null,
      "layout": "IPY_MODEL_1208e064480d4270afc55c08ee4ec669",
      "placeholder": "​",
      "style": "IPY_MODEL_c6ba7fd59a3d4a438b35e73dbf59f2bc",
      "value": " 799/799 [00:01&lt;00:00, 1063.44it/s]"
     }
    },
    "5b670489422444bda8469614d7161ac1": {
     "model_module": "@jupyter-widgets/controls",
     "model_module_version": "1.5.0",
     "model_name": "FloatProgressModel",
     "state": {
      "_dom_classes": [],
      "_model_module": "@jupyter-widgets/controls",
      "_model_module_version": "1.5.0",
      "_model_name": "FloatProgressModel",
      "_view_count": null,
      "_view_module": "@jupyter-widgets/controls",
      "_view_module_version": "1.5.0",
      "_view_name": "ProgressView",
      "bar_style": "success",
      "description": "",
      "description_tooltip": null,
      "layout": "IPY_MODEL_070e5975127c40d28932abf62f73092e",
      "max": 799,
      "min": 0,
      "orientation": "horizontal",
      "style": "IPY_MODEL_103a6cff3cc24677b00864c20fc13e37",
      "value": 799
     }
    },
    "6cec1b8a8b974ac5ae72311c1dda9098": {
     "model_module": "@jupyter-widgets/controls",
     "model_module_version": "1.5.0",
     "model_name": "DescriptionStyleModel",
     "state": {
      "_model_module": "@jupyter-widgets/controls",
      "_model_module_version": "1.5.0",
      "_model_name": "DescriptionStyleModel",
      "_view_count": null,
      "_view_module": "@jupyter-widgets/base",
      "_view_module_version": "1.2.0",
      "_view_name": "StyleView",
      "description_width": ""
     }
    },
    "8ab504973a2549fbaca98642b5343731": {
     "model_module": "@jupyter-widgets/controls",
     "model_module_version": "1.5.0",
     "model_name": "HTMLModel",
     "state": {
      "_dom_classes": [],
      "_model_module": "@jupyter-widgets/controls",
      "_model_module_version": "1.5.0",
      "_model_name": "HTMLModel",
      "_view_count": null,
      "_view_module": "@jupyter-widgets/controls",
      "_view_module_version": "1.5.0",
      "_view_name": "HTMLView",
      "description": "",
      "description_tooltip": null,
      "layout": "IPY_MODEL_24136fa6721c496ab8d6bb151428fef7",
      "placeholder": "​",
      "style": "IPY_MODEL_6cec1b8a8b974ac5ae72311c1dda9098",
      "value": "Computing transition probabilities: 100%"
     }
    },
    "8c761e1b37784590b8675930e136b0a2": {
     "model_module": "@jupyter-widgets/controls",
     "model_module_version": "1.5.0",
     "model_name": "ProgressStyleModel",
     "state": {
      "_model_module": "@jupyter-widgets/controls",
      "_model_module_version": "1.5.0",
      "_model_name": "ProgressStyleModel",
      "_view_count": null,
      "_view_module": "@jupyter-widgets/base",
      "_view_module_version": "1.2.0",
      "_view_name": "StyleView",
      "bar_color": null,
      "description_width": ""
     }
    },
    "8dd2a1e38efa472a936489a290594b49": {
     "model_module": "@jupyter-widgets/controls",
     "model_module_version": "1.5.0",
     "model_name": "HBoxModel",
     "state": {
      "_dom_classes": [],
      "_model_module": "@jupyter-widgets/controls",
      "_model_module_version": "1.5.0",
      "_model_name": "HBoxModel",
      "_view_count": null,
      "_view_module": "@jupyter-widgets/controls",
      "_view_module_version": "1.5.0",
      "_view_name": "HBoxView",
      "box_style": "",
      "children": [
       "IPY_MODEL_8ab504973a2549fbaca98642b5343731",
       "IPY_MODEL_5b670489422444bda8469614d7161ac1",
       "IPY_MODEL_3d874d908bc140bc99e990d265fdfe34"
      ],
      "layout": "IPY_MODEL_530e5b4e3a7642a2a51e16ee784d06de"
     }
    },
    "a73b19a3af1248c09fc32853d54099fa": {
     "model_module": "@jupyter-widgets/base",
     "model_module_version": "1.2.0",
     "model_name": "LayoutModel",
     "state": {
      "_model_module": "@jupyter-widgets/base",
      "_model_module_version": "1.2.0",
      "_model_name": "LayoutModel",
      "_view_count": null,
      "_view_module": "@jupyter-widgets/base",
      "_view_module_version": "1.2.0",
      "_view_name": "LayoutView",
      "align_content": null,
      "align_items": null,
      "align_self": null,
      "border": null,
      "bottom": null,
      "display": null,
      "flex": null,
      "flex_flow": null,
      "grid_area": null,
      "grid_auto_columns": null,
      "grid_auto_flow": null,
      "grid_auto_rows": null,
      "grid_column": null,
      "grid_gap": null,
      "grid_row": null,
      "grid_template_areas": null,
      "grid_template_columns": null,
      "grid_template_rows": null,
      "height": null,
      "justify_content": null,
      "justify_items": null,
      "left": null,
      "margin": null,
      "max_height": null,
      "max_width": null,
      "min_height": null,
      "min_width": null,
      "object_fit": null,
      "object_position": null,
      "order": null,
      "overflow": null,
      "overflow_x": null,
      "overflow_y": null,
      "padding": null,
      "right": null,
      "top": null,
      "visibility": null,
      "width": null
     }
    },
    "c6ba7fd59a3d4a438b35e73dbf59f2bc": {
     "model_module": "@jupyter-widgets/controls",
     "model_module_version": "1.5.0",
     "model_name": "DescriptionStyleModel",
     "state": {
      "_model_module": "@jupyter-widgets/controls",
      "_model_module_version": "1.5.0",
      "_model_name": "DescriptionStyleModel",
      "_view_count": null,
      "_view_module": "@jupyter-widgets/base",
      "_view_module_version": "1.2.0",
      "_view_name": "StyleView",
      "description_width": ""
     }
    },
    "ca9ca1c2fb984a989f51be038ed55bd0": {
     "model_module": "@jupyter-widgets/controls",
     "model_module_version": "1.5.0",
     "model_name": "FloatProgressModel",
     "state": {
      "_dom_classes": [],
      "_model_module": "@jupyter-widgets/controls",
      "_model_module_version": "1.5.0",
      "_model_name": "FloatProgressModel",
      "_view_count": null,
      "_view_module": "@jupyter-widgets/controls",
      "_view_module_version": "1.5.0",
      "_view_name": "ProgressView",
      "bar_style": "success",
      "description": "",
      "description_tooltip": null,
      "layout": "IPY_MODEL_3beccfc720e74980bbc770b5b9b85161",
      "max": 799,
      "min": 0,
      "orientation": "horizontal",
      "style": "IPY_MODEL_8c761e1b37784590b8675930e136b0a2",
      "value": 799
     }
    }
   }
  }
 },
 "nbformat": 4,
 "nbformat_minor": 1
}
